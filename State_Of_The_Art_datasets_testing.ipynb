{
  "nbformat": 4,
  "nbformat_minor": 0,
  "metadata": {
    "colab": {
      "provenance": []
    },
    "kernelspec": {
      "name": "python3",
      "display_name": "Python 3"
    },
    "language_info": {
      "name": "python"
    }
  },
  "cells": [
    {
      "cell_type": "code",
      "execution_count": 1,
      "metadata": {
        "id": "R9YfwdJQDLGv"
      },
      "outputs": [],
      "source": [
        "import numpy as np\n",
        "import pandas as pd\n",
        "from sklearn.model_selection import train_test_split, GridSearchCV\n",
        "from sklearn.metrics import accuracy_score"
      ]
    },
    {
      "cell_type": "code",
      "source": [
        "df= pd.read_csv('/content/house_votes_bin_prep.csv')\n",
        "y = df['target']\n",
        "X = df.drop(['target'], axis = 1)"
      ],
      "metadata": {
        "id": "yv4-KwcqNqkR"
      },
      "execution_count": null,
      "outputs": []
    },
    {
      "cell_type": "code",
      "source": [
        "# code if working with iris_dataset\n",
        "\n",
        "df_unp= pd.read_csv('/content/iris_dataset.csv')\n",
        "\n",
        "df = pd.DataFrame()\n",
        "df['sepalLength1'] = df_unp['sepalLength'] == 1\n",
        "df['sepalLength2'] = df_unp['sepalLength'] == 2\n",
        "df['sepalLength3'] = df_unp['sepalLength'] == 3\n",
        "df['sepalLength4'] = df_unp['sepalLength'] == 4\n",
        "df['sepalLength5'] = df_unp['sepalLength'] == 5\n",
        "df['sepalWidth6'] = df_unp['sepalWidth'] == 6\n",
        "df['sepalWidth7'] = df_unp['sepalWidth'] ==7\n",
        "df['sepalWidth8'] = df_unp['sepalWidth'] == 8\n",
        "df['sepalWidth9'] = df_unp['sepalWidth'] ==9\n",
        "df['sepalWidth10'] = df_unp['sepalWidth'] == 10\n",
        "df['petalLength11'] = df_unp['petalLength'] == 11\n",
        "df['petalLength12'] = df_unp['petalLength'] == 12\n",
        "df['petalLength13'] = df_unp['petalLength'] == 13\n",
        "df['petalWidth14'] = df_unp['petalLength'] == 14\n",
        "df['petalWidth15'] = df_unp['petalWidth'] == 15\n",
        "df['petalWidth16'] = df_unp['petalWidth'] == 16\n",
        "df['class'] = df_unp['class'] -17\n",
        "\n",
        "y = df['class']\n",
        "X = df.drop(['class'], axis = 1)"
      ],
      "metadata": {
        "id": "YRjVT5s1OCRv"
      },
      "execution_count": null,
      "outputs": []
    },
    {
      "cell_type": "code",
      "source": [
        "X_train, X_test, y_train, y_test = train_test_split( X, y, test_size = 0.3, random_state = 0)"
      ],
      "metadata": {
        "id": "2Fuom1iaOhee"
      },
      "execution_count": null,
      "outputs": []
    },
    {
      "cell_type": "markdown",
      "source": [
        "# **Метод ближайшего соседа**"
      ],
      "metadata": {
        "id": "eOLIF62aGxfO"
      }
    },
    {
      "cell_type": "code",
      "source": [
        "from sklearn.neighbors import KNeighborsClassifier\n",
        "from sklearn.model_selection import cross_val_score\n",
        "neighbors = []\n",
        "cv_scores = []\n",
        "\n",
        "# making 10 fold cross validation\n",
        "for k in range(1, 51, 2):\n",
        "    neighbors.append(k)\n",
        "    knn = KNeighborsClassifier(n_neighbors = k)\n",
        "    scores = cross_val_score(\n",
        "        knn, X_train, y_train, cv = 10, scoring = 'accuracy')\n",
        "    cv_scores.append(scores.mean())\n",
        "\n",
        "MSE = [1-x for x in cv_scores]\n",
        "\n",
        "# finding the best k\n",
        "optimal_k = neighbors[MSE.index(min(MSE))]\n",
        "print('The optimal number of neighbors is % d ' % optimal_k)\n",
        "\n",
        "knn = KNeighborsClassifier(n_neighbors = optimal_k)\n",
        "\n",
        "# Tuned Model fitting\n",
        "knn.fit(X_train, y_train)\n",
        "# accuracy calculation of tuned model on test data\n",
        "knn.score(X_test, y_test)"
      ],
      "metadata": {
        "id": "pzJt19wZG4lv"
      },
      "execution_count": 59,
      "outputs": []
    },
    {
      "cell_type": "markdown",
      "source": [
        "# **Случайный лес**"
      ],
      "metadata": {
        "id": "6XW5UYkBG5H3"
      }
    },
    {
      "cell_type": "code",
      "source": [
        "from sklearn.ensemble import RandomForestClassifier\n",
        "\n",
        "rf = RandomForestClassifier()\n",
        "\n",
        "# GridSearch for best parameters of Random Forest\n",
        "param_grid= {\n",
        "        'n_estimators': [1,2,3,4,5,6,7,8,9,10,11,12,13,14,15,16,17,18,19,20],\n",
        "        'max_depth': [1, 2, 3, 4, 5, 6, 7, 8, 9, 10],\n",
        "                }\n",
        "\n",
        "grid_search = GridSearchCV(rf, param_grid, cv=5)\n",
        "\n",
        "# Tuned Model fitting\n",
        "grid_search.fit(X_train, y_train)\n",
        "\n",
        "# Showing best parameters & best score\n",
        "print ('Best parameters:', grid_search.best_params_)\n",
        "print ('Best score:', grid_search.best_score_)\n",
        "\n",
        "# Making prediction on test data & accuracy calculation of tuned model\n",
        "grid_rf= grid_search.predict(X_test)\n",
        "print('test_accuracy', accuracy_score(y_test,grid_rf))"
      ],
      "metadata": {
        "id": "WDcm_KEmizgb"
      },
      "execution_count": 57,
      "outputs": []
    },
    {
      "cell_type": "markdown",
      "source": [
        "# **Наивный Байес**"
      ],
      "metadata": {
        "id": "N8zakdwGG8_O"
      }
    },
    {
      "cell_type": "code",
      "source": [
        "from sklearn.naive_bayes import GaussianNB\n",
        "\n",
        "gs_NB = GaussianNB()\n",
        "\n",
        "# Model fitting\n",
        "gs_NB.fit(X_train, y_train)\n",
        "\n",
        "# predict the target on the test dataset\n",
        "predict_test = gs_NB.predict(X_test)\n",
        "\n",
        "# Accuracy Score on test dataset\n",
        "accuracy_test = accuracy_score(y_test, predict_test)\n",
        "print('accuracy_score on test dataset : ', accuracy_test)"
      ],
      "metadata": {
        "id": "3r2oepE78zgT"
      },
      "execution_count": 56,
      "outputs": []
    },
    {
      "cell_type": "markdown",
      "source": [
        "# **XGBoost**"
      ],
      "metadata": {
        "id": "0e-1sSCHYTtU"
      }
    },
    {
      "cell_type": "code",
      "source": [
        "from xgboost.sklearn import XGBClassifier\n",
        "\n",
        "xgb = XGBClassifier()\n",
        "\n",
        "# GridSearch for best parameters of XGBoost\n",
        "param_grid= {\n",
        "        'max_depth': [1, 2, 3, 4],\n",
        "        'n_estimators': [4, 5, 6],\n",
        "        'learning_rate': [0.001, 0.01, 0.1, 0.2, 1],\n",
        "                }\n",
        "\n",
        "grid_search = GridSearchCV(xgb, param_grid, cv=5)\n",
        "\n",
        "# Tuned Model fitting\n",
        "grid_search.fit(X_train, y_train)\n",
        "\n",
        "# Showing best parameters & best score\n",
        "print ('Best parameters:', grid_search.best_params_)\n",
        "print ('Best score:', grid_search.best_score_)\n",
        "\n",
        "# Making prediction on test data & accuracy calculation of tuned model\n",
        "predictions = grid_search.predict(X_test)\n",
        "print('test_accuracy', accuracy_score(y_test, predictions))"
      ],
      "metadata": {
        "id": "ut4gkLxRyScm"
      },
      "execution_count": 54,
      "outputs": []
    },
    {
      "cell_type": "markdown",
      "source": [
        "# **SVM**"
      ],
      "metadata": {
        "id": "PL4jMDz8Y_xt"
      }
    },
    {
      "cell_type": "code",
      "source": [
        "from sklearn import svm\n",
        "\n",
        "svm = svm.SVC()\n",
        "\n",
        "# GridSearch for best parameters of SVM\n",
        "param_grid = {'C': [0.1, 1, 10, 100, 1000],\n",
        "              'gamma': [1, 0.1, 0.01, 0.001, 0.0001],\n",
        "              'kernel': ['rbf','linear']}\n",
        "grid = GridSearchCV(svm,param_grid)\n",
        "\n",
        "# Showing best parameters & best score\n",
        "print('Best parameters:', grid.best_params_)\n",
        "print ('Best score:', grid.best_score_)\n",
        "# Tuned Model fitting\n",
        "grid.fit(X_train,y_train)\n",
        "\n",
        "# Making prediction on test data & accuracy calculation of tuned model\n",
        "grid_svc = grid.predict(X_test)\n",
        "print('test_accuracy', accuracy_score(y_test,grid_svc))"
      ],
      "metadata": {
        "id": "ochg7pGYZ7x9"
      },
      "execution_count": 53,
      "outputs": []
    }
  ]
}